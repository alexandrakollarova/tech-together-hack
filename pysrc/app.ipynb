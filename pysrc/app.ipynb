{
 "cells": [
  {
   "cell_type": "code",
   "execution_count": 1,
   "metadata": {},
   "outputs": [],
   "source": [
    "import nltk\n",
    "import numpy as np\n",
    "import random\n",
    "import string # to process standard python strings"
   ]
  },
  {
   "cell_type": "code",
   "execution_count": 2,
   "metadata": {},
   "outputs": [],
   "source": [
    "f=open('ppd.txt','r',errors = 'ignore')\n",
    "raw=f.read()\n",
    "raw=raw.lower()# converts to lowercase"
   ]
  },
  {
   "cell_type": "code",
   "execution_count": 3,
   "metadata": {},
   "outputs": [],
   "source": [
    "# nltk.download('punkt') # first-time use only\n",
    "# nltk.download('wordnet') # first-time use only"
   ]
  },
  {
   "cell_type": "code",
   "execution_count": 4,
   "metadata": {},
   "outputs": [],
   "source": [
    "sent_tokens = nltk.sent_tokenize(raw)# converts to list of sentences \n",
    "word_tokens = nltk.word_tokenize(raw)# converts to list of words"
   ]
  },
  {
   "cell_type": "code",
   "execution_count": 5,
   "metadata": {},
   "outputs": [],
   "source": [
    "lemmer = nltk.stem.WordNetLemmatizer()\n",
    "#WordNet is a semantically-oriented dictionary of English included in NLTK.\n",
    "def LemTokens(tokens):\n",
    "    return [lemmer.lemmatize(token) for token in tokens]\n",
    "remove_punct_dict = dict((ord(punct), None) for punct in string.punctuation)\n",
    "def LemNormalize(text):\n",
    "    return LemTokens(nltk.word_tokenize(text.lower().translate(remove_punct_dict)))"
   ]
  },
  {
   "cell_type": "code",
   "execution_count": 6,
   "metadata": {},
   "outputs": [],
   "source": [
    "GREETING_INPUTS = (\"hello\", \"hi\", \"greetings\", \"sup\", \"what's up\",\"hey\",)\n",
    "GREETING_RESPONSES = [\"hi\", \"hey\", \"*nods*\", \"hi there\", \"hello\", \"I am glad! You are talking to me\"]\n",
    "SURVEY_INIT = (\"anxious\",\"depression\",\"depressive\",\"anxiety\",\"depressed\")\n",
    "SURVEY_QUESTIONS = (\"I have'nt been able to laugh and see the funny side of things?\",\n",
    "                    \"I have'nt been able to look forward to things with enjoyment?\",\n",
    "                    \"I have blamed myself unnecessarily when things  went wrong?\",\n",
    "                    \"I have been anxious or worried for no good reason?\",\n",
    "                    \"I have felt scared or panicky for no very good reason?\",\n",
    "                    \"Things have been getting on top of me?\",\n",
    "                    \"I have been so unhappy that I have had difficulty sleeping?\",\n",
    "                    \"I have felt sad or miserable?\",\n",
    "                    \"I have been so unhappy that I have been crying?\",\n",
    "                    \"The thought of harming myself has occurred to me?\")\n",
    "SUGGESTIONS = [\"Relax\",\"take a walk\",\"Exercise\",\"take a walk\",\"Read a Book\"]\n",
    "SURVEY_ANSWERS = {'yes' : 3 , 'no' : 0}\n",
    "def greeting(sentence):\n",
    "    for word in sentence.split():\n",
    "        if word.lower() in GREETING_INPUTS:\n",
    "            return random.choice(GREETING_RESPONSES)\n",
    "        \n",
    "def survey(sentence):\n",
    "    for word in sentence.split():\n",
    "        if word.lower() in SURVEY_INIT:\n",
    "            return (\"would you mind if I ask you a couple of questions..\")\n",
    "        \n",
    "def suggestions():\n",
    "    return random.choice(SUGGESTIONS)"
   ]
  },
  {
   "cell_type": "code",
   "execution_count": 7,
   "metadata": {},
   "outputs": [],
   "source": [
    "from sklearn.feature_extraction.text import TfidfVectorizer\n",
    "from sklearn.metrics.pairwise import cosine_similarity"
   ]
  },
  {
   "cell_type": "code",
   "execution_count": 8,
   "metadata": {},
   "outputs": [],
   "source": [
    "def response(user_response):\n",
    "    robo_response=''\n",
    "    sent_tokens.append(user_response)\n",
    "    TfidfVec = TfidfVectorizer(tokenizer=LemNormalize, stop_words = 'english')\n",
    "    tfidf = TfidfVec.fit_transform(sent_tokens)\n",
    "    vals = cosine_similarity(tfidf[-1], tfidf)\n",
    "    idx=vals.argsort()[0][-2]\n",
    "    flat = vals.flatten()\n",
    "    flat.sort()\n",
    "    req_tfidf = flat[-2]\n",
    "    if(req_tfidf==0):\n",
    "        robo_response=robo_response+\"I am sorry! I don't understand you\"\n",
    "        return robo_response\n",
    "    else:\n",
    "        robo_response = robo_response+sent_tokens[idx]\n",
    "        return robo_response"
   ]
  },
  {
   "cell_type": "code",
   "execution_count": 9,
   "metadata": {},
   "outputs": [],
   "source": [
    "import twilio\n",
    "from flask import Flask\n",
    "from flask import request\n",
    "from twilio.twiml.messaging_response import MessagingResponse\n",
    "\n",
    "app = Flask(__name__)\n",
    "\n",
    "\n",
    "@app.route('/bot', methods=['POST'])\n",
    "def bot():\n",
    "    flag=True\n",
    "    epds_count = []\n",
    "    #print(\"ROBO: My name is Robo. I will answer your queries about Postpartum depression. If you want to exit, type Bye!\")\n",
    "    while(flag==True):\n",
    "        user_response = request.values.get('message', '')\n",
    "        user_response=user_response.lower()\n",
    "        robo_response = MessagingResponse()\n",
    "        msg = robo_response.message()\n",
    "        if(user_response!='bye'):\n",
    "            if(user_response=='thanks' or user_response=='thank you' ):\n",
    "                flag=False\n",
    "                msg.body(\"ROBO: You are welcome..\")\n",
    "            elif(survey(user_response)!=None):\n",
    "                msg.body(\"In order for us to help you better, we would like to ask you a few question.\\nPlease answer it with a yes or a no based on how you have felt in the past 7 days:\")\n",
    "                for item in SURVEY_QUESTIONS:\n",
    "                    msg.body(item)\n",
    "                    survey_response = request.values.get('message', '')\n",
    "                    while(survey_response != 'no' and survey_response != 'yes'):\n",
    "                        msg.body(\"Please enter a valid input:\")\n",
    "                        survey_response = request.values.get('message', '')\n",
    "                    epds_count.append(SURVEY_ANSWERS[survey_response])\n",
    "                if(sum(epds_count) > 13):\n",
    "                    msg.body(\"Dont worry! You are not alone. At this time I recommend you seek medical advice from a general Physician.\")\n",
    "                    flag=False\n",
    "                else:\n",
    "                    msg.body(\"Don't worry just take some time out for yourself and \" + suggestions() + \"!\")\n",
    "                    flag = False\n",
    "            else:\n",
    "                if(greeting(user_response)!=None):\n",
    "                    msg.body(\"ROBO: \"+greeting(user_response))\n",
    "                else:\n",
    "                    msg.body(\"ROBO: \",end=\"\")\n",
    "                    msg.body(response(user_response))\n",
    "                    sent_tokens.remove(user_response)\n",
    "        else:\n",
    "            flag=False\n",
    "            msg.body(\"ROBO: Bye! take care..\")\n",
    "    return str(resp)"
   ]
  }
 ],
 "metadata": {
  "kernelspec": {
   "display_name": "Python 3",
   "language": "python",
   "name": "python3"
  },
  "language_info": {
   "codemirror_mode": {
    "name": "ipython",
    "version": 3
   },
   "file_extension": ".py",
   "mimetype": "text/x-python",
   "name": "python",
   "nbconvert_exporter": "python",
   "pygments_lexer": "ipython3",
   "version": "3.7.4"
  }
 },
 "nbformat": 4,
 "nbformat_minor": 2
}
